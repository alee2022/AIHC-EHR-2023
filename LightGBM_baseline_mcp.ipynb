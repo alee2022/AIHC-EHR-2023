{
 "cells": [
  {
   "cell_type": "code",
   "execution_count": 4,
   "id": "a07bd91b",
   "metadata": {},
   "outputs": [],
   "source": [
    "import os\n",
    "import pandas as pd\n",
    "import numpy as np\n",
    "from scipy.sparse import load_npz\n",
    "import sys\n",
    "from sklearn.metrics import mean_squared_error\n",
    "import matplotlib.pyplot as plt\n",
    "import math\n",
    "from scipy.stats import norm\n",
    "from healthrex_ml.evaluators import BinaryEvaluator\n",
    "from tqdm import tqdm\n",
    "from functions.trainers import LightGBMTrainer"
   ]
  },
  {
   "cell_type": "code",
   "execution_count": 5,
   "id": "e8dabef7",
   "metadata": {},
   "outputs": [],
   "source": [
    "trainer = LightGBMTrainer(working_dir=\"/deep/group/aihc/win23/EHR/20230218_jyx_mcp_artifacts\")"
   ]
  },
  {
   "cell_type": "code",
   "execution_count": 6,
   "id": "3edc6600",
   "metadata": {},
   "outputs": [],
   "source": [
    "tasks = ['label_NA', 'label_K', 'label_CR', 'label_CA', 'label_ALB']"
   ]
  },
  {
   "cell_type": "code",
   "execution_count": 7,
   "id": "80d30829",
   "metadata": {},
   "outputs": [],
   "source": [
    "delta = {\n",
    "    \"label_NA\": 2.5,\n",
    "    \"label_K\": 0.5,\n",
    "    \"label_CR\": 0.125,\n",
    "    \"label_CA\": 0.525,\n",
    "    \"label_ALB\": 0.425\n",
    "}"
   ]
  },
  {
   "cell_type": "code",
   "execution_count": null,
   "id": "572fa904",
   "metadata": {},
   "outputs": [
    {
     "name": "stdout",
     "output_type": "stream",
     "text": [
      "Training until validation scores don't improve for 100 rounds\n"
     ]
    }
   ],
   "source": [
    "for task in tasks:\n",
    "    trainer(task, delta[task], True)"
   ]
  },
  {
   "cell_type": "code",
   "execution_count": null,
   "id": "19f861bc",
   "metadata": {},
   "outputs": [],
   "source": []
  }
 ],
 "metadata": {
  "kernelspec": {
   "display_name": "Python 3 (ipykernel)",
   "language": "python",
   "name": "python3"
  },
  "language_info": {
   "codemirror_mode": {
    "name": "ipython",
    "version": 3
   },
   "file_extension": ".py",
   "mimetype": "text/x-python",
   "name": "python",
   "nbconvert_exporter": "python",
   "pygments_lexer": "ipython3",
   "version": "3.7.6"
  }
 },
 "nbformat": 4,
 "nbformat_minor": 5
}
